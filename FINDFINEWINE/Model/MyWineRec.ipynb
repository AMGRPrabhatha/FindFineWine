{
  "cells": [
    {
      "cell_type": "code",
      "source": [
        "import pandas as pd\n",
        "from sklearn.model_selection import train_test_split\n",
        "from sklearn.preprocessing import LabelEncoder\n",
        "from sklearn.neighbors import NearestNeighbors\n",
        "from sklearn.metrics import accuracy_score\n",
        "\n",
        "\n",
        "\n",
        "\n",
        "\n",
        "\n",
        "\n"
      ],
      "metadata": {
        "id": "TD3S_ydcsco6"
      },
      "execution_count": 28,
      "outputs": []
    },
    {
      "cell_type": "code",
      "source": [
        "def recommend_wine(grape, wine_type, gender, occasion):\n",
        "    # Load the dataset\n",
        "    df = pd.read_csv('datasetWine.csv', encoding='ISO-8859-1')\n",
        "\n",
        "    # Convert categorical variables to numeric\n",
        "    le_grape = LabelEncoder()\n",
        "    le_type = LabelEncoder()\n",
        "    le_gender = LabelEncoder()\n",
        "    le_occasion = LabelEncoder()\n",
        "    le_title = LabelEncoder()\n",
        "\n",
        "    df['Type'] = le_type.fit_transform(df['Type'])\n",
        "    df['Grape'] = le_grape.fit_transform(df['Grape'])\n",
        "    df['Gender'] = le_gender.fit_transform(df['Gender'])\n",
        "    df['Occasion'] = le_occasion.fit_transform(df['Occasion'])\n",
        "    df['Title'] = le_title.fit_transform(df['Title'])\n",
        "\n",
        "\n",
        "    X = df[['Type', 'Grape', 'Gender', 'Occasion']]\n",
        "    y = df['Title']\n",
        "\n",
        "\n",
        "    X_train, X_test, y_train, y_test = train_test_split(X, y, test_size=0.2, random_state=42)\n",
        "\n",
        "\n",
        "    nn = NearestNeighbors(n_neighbors=4)\n",
        "    nn.fit(X_train, y_train)\n",
        "\n",
        "    # Predict the titles for the testing data\n",
        "    distances, indices = nn.kneighbors(X_test)\n",
        "    y_pred = y_train.iloc[indices[:, 0]]\n",
        "\n",
        "\n",
        "    print('Training accuracy:', accuracy_score(y_train, nn.kneighbors(X_train, return_distance=False)[:, 0]))\n",
        "    print('Testing accuracy:', accuracy_score(y_test, y_pred))\n",
        "\n",
        "    # Use the model to find the 5 nearest neighbors\n",
        "    input_data = pd.DataFrame([[grape, wine_type, gender, occasion]], columns=['Type', 'Grape', 'Gender', 'Occasion'])\n",
        "\n",
        "    input_data['Type'] = le_type.transform(input_data['Type'])\n",
        "    input_data['Grape'] = le_grape.transform(input_data['Grape'])\n",
        "    input_data['Gender'] = le_gender.transform(input_data['Gender'])\n",
        "    input_data['Occasion'] = le_occasion.transform(input_data['Occasion'])\n",
        "    distances, indices = nn.kneighbors(input_data)\n",
        "\n",
        "    # Get the titles of the 5 nearest neighbors\n",
        "    recommended_wines = le_title.inverse_transform(y_train.iloc[indices[0]])\n",
        "\n",
        "    return recommended_wines\n",
        "\n",
        "# Test the function\n",
        "print(recommend_wine('White', 'Chardonnay', 'F', 'Wedding'))"
      ],
      "metadata": {
        "colab": {
          "base_uri": "https://localhost:8080/"
        },
        "id": "duINGZzXhrfH",
        "outputId": "1d7bfe7c-b480-470f-d5d7-c60b63e4de97"
      },
      "execution_count": 29,
      "outputs": [
        {
          "output_type": "stream",
          "name": "stdout",
          "text": [
            "Training accuracy: 0.0012804097311139564\n",
            "Testing accuracy: 0.8979591836734694\n",
            "[\"Pommery 'Brut Royal' Champagne\"\n",
            " \"Laurent-Perrier 'La Cuvée' Brut Champagne\"\n",
            " 'Taittinger Brut Réserve Champagne'\n",
            " \"Louis Roederer 'Cristal' Champagne 2015\"]\n"
          ]
        }
      ]
    }
  ],
  "metadata": {
    "colab": {
      "provenance": []
    },
    "kernelspec": {
      "display_name": "Python 3",
      "name": "python3"
    },
    "language_info": {
      "name": "python"
    }
  },
  "nbformat": 4,
  "nbformat_minor": 0
}