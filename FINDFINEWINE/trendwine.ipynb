{
  "nbformat": 4,
  "nbformat_minor": 0,
  "metadata": {
    "colab": {
      "provenance": []
    },
    "kernelspec": {
      "name": "python3",
      "display_name": "Python 3"
    },
    "language_info": {
      "name": "python"
    }
  },
  "cells": [
    {
      "cell_type": "code",
      "execution_count": 48,
      "metadata": {
        "id": "ZCDmv6Y7fh_p"
      },
      "outputs": [],
      "source": [
        "import pandas as pd\n",
        "from sklearn.preprocessing import LabelEncoder\n",
        "from sklearn.neighbors import NearestNeighbors\n",
        "from sklearn.ensemble import RandomForestRegressor"
      ]
    },
    {
      "cell_type": "code",
      "source": [
        "def recommend_wine(wine_type, grape_variety, gender, occasion):\n",
        "    # Load the dataset\n",
        "    df = pd.read_csv('/content/FINDFINEWINE1.csv', encoding='ISO-8859-1')\n",
        "\n",
        "    # Convert categorical variables to numeric\n",
        "    le_wine_type = LabelEncoder()\n",
        "    le_grape_variety = LabelEncoder()\n",
        "    le_gender = LabelEncoder()\n",
        "    le_occasion = LabelEncoder()\n",
        "    le_title = LabelEncoder()\n",
        "\n",
        "    df['Wine Type'] = le_wine_type.fit_transform(df['Wine Type'])\n",
        "    df['Grape Variety'] = le_grape_variety.fit_transform(df['Grape Variety'])\n",
        "    df['Gender'] = le_gender.fit_transform(df['Gender'])\n",
        "    df['Occasion'] = le_occasion.fit_transform(df['Occasion'])\n",
        "    df['Title'] = le_title.fit_transform(df['Title'])\n",
        "\n",
        "    X = df[['Wine Type', 'Grape Variety', 'Gender', 'Occasion']]\n",
        "    y = df['Title']\n",
        "\n",
        "    # Fit NearestNeighbors model\n",
        "    nn = NearestNeighbors(n_neighbors=2)\n",
        "    nn.fit(X, y)\n",
        "\n",
        "    # Prepare the input data\n",
        "    input_data = pd.DataFrame([[wine_type, grape_variety, gender, occasion]], columns=['Wine Type', 'Grape Variety', 'Gender', 'Occasion'])\n",
        "\n",
        "    input_data['Wine Type'] = le_wine_type.transform(input_data['Wine Type'])\n",
        "    input_data['Grape Variety'] = le_grape_variety.transform(input_data['Grape Variety'])\n",
        "    input_data['Gender'] = le_gender.transform(input_data['Gender'])\n",
        "    input_data['Occasion'] = le_occasion.transform(input_data['Occasion'])\n",
        "\n",
        "    # Use the model to find the 5 nearest neighbors\n",
        "    distances, indices = nn.kneighbors(input_data)\n",
        "\n",
        "    # Get the indices of the 5 nearest neighbors\n",
        "    recommended_wines_indices = indices[0]\n",
        "\n",
        "    # Retrieve full details of recommended wines\n",
        "    recommended_wines = df.loc[recommended_wines_indices]\n",
        "\n",
        "    # Inverse transform categorical columns\n",
        "    recommended_wines['Wine Type'] = le_wine_type.inverse_transform(recommended_wines['Wine Type'])\n",
        "    recommended_wines['Grape Variety'] = le_grape_variety.inverse_transform(recommended_wines['Grape Variety'])\n",
        "    recommended_wines['Gender'] = le_gender.inverse_transform(recommended_wines['Gender'])\n",
        "    recommended_wines['Occasion'] = le_occasion.inverse_transform(recommended_wines['Occasion'])\n",
        "    recommended_wines['Title'] = le_title.inverse_transform(recommended_wines['Title'])\n",
        "\n",
        "    return recommended_wines"
      ],
      "metadata": {
        "id": "QJTxb_E9fsmm"
      },
      "execution_count": 52,
      "outputs": []
    },
    {
      "cell_type": "code",
      "source": [
        "def predict_trending_wine(recommended_wines):\n",
        "    # Load the dataset containing wine data including sales volume\n",
        "    wine_data_df = pd.read_csv('/content/TrendingWine.csv', encoding='ISO-8859-1')\n",
        "\n",
        "    # Select relevant features and target variable\n",
        "    features = ['Wine Type', 'Grape Variety', 'Gender', 'Occasion']  # Adjust as needed\n",
        "    target = 'Sales Volume'\n",
        "\n",
        "    # Convert categorical variables to numeric\n",
        "    le_wine_type = LabelEncoder()\n",
        "    le_grape_variety = LabelEncoder()\n",
        "    le_gender = LabelEncoder()\n",
        "    le_occasion = LabelEncoder()\n",
        "\n",
        "    # Fit the encoders on the entire dataset for consistency\n",
        "    wine_data_df['Wine Type'] = le_wine_type.fit_transform(wine_data_df['Wine Type'])\n",
        "    wine_data_df['Grape Variety'] = le_grape_variety.fit_transform(wine_data_df['Grape Variety'])\n",
        "    wine_data_df['Gender'] = le_gender.fit_transform(wine_data_df['Gender'])\n",
        "    wine_data_df['Occasion'] = le_occasion.fit_transform(wine_data_df['Occasion'])\n",
        "\n",
        "    # Transform the recommended wines DataFrame\n",
        "    recommended_wines['Wine Type'] = le_wine_type.transform(recommended_wines['Wine Type'])\n",
        "    recommended_wines['Grape Variety'] = le_grape_variety.transform(recommended_wines['Grape Variety'])\n",
        "    recommended_wines['Gender'] = le_gender.transform(recommended_wines['Gender'])\n",
        "    recommended_wines['Occasion'] = le_occasion.transform(recommended_wines['Occasion'])\n",
        "\n",
        "    X = wine_data_df[features]\n",
        "    y = wine_data_df[target]\n",
        "\n",
        "    # Train a random forest regressor model\n",
        "    model = RandomForestRegressor(n_estimators=100, random_state=42)\n",
        "    model.fit(X, y)\n",
        "\n",
        "    # Make predictions for the recommended wines\n",
        "    predicted_sales_volumes = model.predict(recommended_wines[features])\n",
        "\n",
        "    # Identify the trending wine based on predicted sales volumes\n",
        "    trending_wine_index = predicted_sales_volumes.argmax()\n",
        "    trending_wine = recommended_wines.iloc[trending_wine_index]\n",
        "\n",
        "    return trending_wine['Title'], trending_wine['IMG URL']  # Return Title and Image URL only\n"
      ],
      "metadata": {
        "id": "zVJ5-XkMf1Zm"
      },
      "execution_count": 53,
      "outputs": []
    },
    {
      "cell_type": "code",
      "source": [
        "# Test the function\n",
        "recommended_wines = recommend_wine('White Wine', 'Chardonnay', 'Female', 'Summer Gatherings')\n",
        "print(\"Recommended Wines:\")\n",
        "print(recommended_wines)\n",
        "\n",
        "trending_wine_title, trending_wine_image_url = predict_trending_wine(recommended_wines)\n",
        "print(\"\\nTrending Wine:\")\n",
        "print(\"Title:\", trending_wine_title)\n",
        "print(\"Image URL:\", trending_wine_image_url)"
      ],
      "metadata": {
        "colab": {
          "base_uri": "https://localhost:8080/"
        },
        "id": "3hiX8YvFuooS",
        "outputId": "1425af3a-3fe0-40fe-beb4-37b9a38e4b14"
      },
      "execution_count": 54,
      "outputs": [
        {
          "output_type": "stream",
          "name": "stdout",
          "text": [
            "Recommended Wines:\n",
            "                                               Title  \\\n",
            "28  Bread & Butter Winemaker's Selection Chardonnay    \n",
            "26                     Morgan Bay Cellars Chardonnay   \n",
            "\n",
            "                                          Description   Price   Grape Variety  \\\n",
            "28  Rich with creamy notes of vanilla bean, almond...  4,100.00    Chardonnay   \n",
            "26  Appearance: Bright gold. Nose: Bright aromas o...  8,300.00    Chardonnay   \n",
            "\n",
            "   Country   Wine Type     ABV  Gender           Occasion  Unnamed: 9  \\\n",
            "28     USA  White Wine  13.50%  Female  Summer Gatherings         NaN   \n",
            "26     USA  White Wine  12.50%  Female  Summer Gatherings         NaN   \n",
            "\n",
            "                                              IMG URL  \n",
            "28  https://images.vivino.com/thumbs/tE1Nt99dSDO7C...  \n",
            "26  https://images.vivino.com/thumbs/gPCeuravT9OIu...  \n",
            "\n",
            "Trending Wine:\n",
            "Title: Bread & Butter Winemaker's Selection Chardonnay \n",
            "Image URL: https://images.vivino.com/thumbs/tE1Nt99dSDO7CPYc0mwQRQ_375x500.jpg\n"
          ]
        }
      ]
    }
  ]
}